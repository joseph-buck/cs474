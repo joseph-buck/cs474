{
  "cells": [
    {
      "cell_type": "markdown",
      "metadata": {
        "id": "view-in-github",
        "colab_type": "text"
      },
      "source": [
        "<a href=\"https://colab.research.google.com/github/joseph-buck/cs474/blob/main/lab-notebooks/DL_Lab1_work.ipynb\" target=\"_parent\"><img src=\"https://colab.research.google.com/assets/colab-badge.svg\" alt=\"Open In Colab\"/></a>"
      ]
    },
    {
      "cell_type": "markdown",
      "metadata": {
        "id": "bkj1_ftQtuBk"
      },
      "source": [
        "# Lab 1: Getting Started\n",
        "\n",
        "## Objective  \n",
        "Get started with Google Colab, Python, and PyTorch. See deep learning in action with TensorFlow playground.\n",
        "\n",
        "## Deliverable\n",
        "For this lab, you will submit a Colab notebook (.ipynb) via Learning Suite.\n",
        "\n",
        "___\n",
        "\n",
        "### Grading\n",
        "Your notebook will be graded on the following:\n",
        "* 50% Part 1: Completed the 10 PyTorch microtasks\n",
        "* 40% Part 2: Image indicating TensorFlow success\n",
        "* 10% Tidy and legible figures, (for the future make sure to label axes where appropriate)\n",
        "\n",
        "___\n",
        "\n",
        "### Overview of Google Colab\n",
        "Throughout this class, we recommend you use Google's Colaboratory (Colab) for the labs. If you aren't familiar with Colab or IPython notebooks, take some time to look at the tutorials linked below.\n",
        "\n",
        "Colab provides an environment that interacts with IPython notebooks (similar to Jupyter) and utilizes a standardized Python distribution.\n",
        "In addition, Colab provides a GPU we can use for deep learning. We will talk about the advantages of GPU vs CPU training in class.\n",
        "\n",
        "While you are allowed to do the labs on your own machine, using Jupyter or some other IPython notebook editor, the labs were written and updated for the current Python distribution used by Colab. You may need to do extra troubleshooting to get them working locally. Also, setting up your own GPU for deep learning may be difficult, and training on the CPU may be unbearably slow in later labs.\n",
        "\n",
        "### Lab Details\n",
        "\n",
        "This lab is intended to get you used to IPython notebooks, Colab, and a few basic deep learning principles.\n",
        "\n",
        "As described above, the notebook should do two things: \n",
        "1.    Complete all 10 microtasks\n",
        "2.    Display an image that you generate using the Tensorflow playground\n",
        "\n",
        "For part 1, you will be using the PyTorch documentation to learn how to complete simple tasks. Each task is solvable in one or two lines of code. Links are provided for each microtask to give you a guided introduction to PyTorch.\n",
        "\n",
        "For part 2, you should visit the [TensorFlow playground](http://playground.tensorflow.org/),\n",
        "and play with different settings. Most of it will be unfamiliar,\n",
        "but don't worry – you can't break it!\n",
        "Once you have a working classifier on the spiral dataset, take a screenshot. \n",
        "Then use your Colab notebook to display that image in-line.\n",
        "___\n",
        "\n",
        "#### Helpful Links\n",
        "\n",
        "[Google Colab](http://colab.research.google.com/) The site where you will probably be coding the labs\n",
        "\n",
        "[A Colab notebook teaching you how to use Colab notebooks](https://colab.research.google.com/drive/1TzaPS3jvRadN-URLbQ9nD1ZNoZktfNRy)\n",
        "\n",
        "[Various Colab tutorials](https://sites.google.com/site/artml2018/tutorials)\n",
        "\n",
        "___"
      ]
    },
    {
      "cell_type": "markdown",
      "metadata": {
        "id": "EiGXqyBjOQoW"
      },
      "source": [
        "### Part 1\n",
        "\n",
        "This is a quick guided walkthrough of PyTorch tensors.\n",
        "\n",
        "PyTorch is a Python library based on the Torch machine learning framework. While other great deep learning alternatives exist, the labs we use in this course were written exclusively for PyTorch.\n",
        "\n",
        "#### Tensors\n",
        "\n",
        "The main PyTorch data structure is the tensor. A tensor in mathematics is a matrix or vector-like structure with more than 2 dimensions, though PyTorch tensors can have 0 or more dimensions. Tensors are implemented similarly to NumPy arrays, and most of what can be done with NumPy can be done with PyTorch tensors. Complete the microtasks in the cells below to learn basic PyTorch tensor manipulation. We provide links to the documentation for this lab, but you should feel comfortable searching the documentation yourself in later labs."
      ]
    },
    {
      "cell_type": "markdown",
      "metadata": {
        "id": "36uyfhRzOQoX"
      },
      "source": [
        "**TODO:** // Here are the list of things to do for this part\n",
        "\n",
        "**DONE:** // Put items from the TODO list here when you are done with them (double click on the cell, cut and paste the line). This is for your benefit as well as the TAs to help with grading.\n",
        "\n",
        "* Complete the tensor microtasks\n"
      ]
    },
    {
      "cell_type": "code",
      "execution_count": 1,
      "metadata": {
        "id": "VRuS2fglOQoY"
      },
      "outputs": [],
      "source": [
        "# Input Statements for Microtask\n",
        "import torch\n",
        "import numpy as np"
      ]
    },
    {
      "cell_type": "markdown",
      "metadata": {
        "id": "QcQWf03uOQoi"
      },
      "source": [
        "##### Task 1\n",
        "Tensors are the the lifeblood of PyTorch.<br>\n",
        "Construct a 5x3 tensor, 'a', of zeros and of dtype long. <br>\n",
        "https://pytorch.org/docs/stable/generated/torch.zeros.html <br>\n",
        "(To create tensors of other values, see `torch.ones()` and `torch.full()`)"
      ]
    },
    {
      "cell_type": "code",
      "execution_count": 19,
      "metadata": {
        "id": "A9aHouhQ6cou",
        "colab": {
          "base_uri": "https://localhost:8080/"
        },
        "outputId": "d063eef4-fa5f-4683-d911-75855a532228"
      },
      "outputs": [
        {
          "output_type": "stream",
          "name": "stdout",
          "text": [
            "tensor([[0, 0, 0],\n",
            "        [0, 0, 0],\n",
            "        [0, 0, 0],\n",
            "        [0, 0, 0],\n",
            "        [0, 0, 0]])\n",
            "torch.Size([5, 3])\n"
          ]
        }
      ],
      "source": [
        "# Your code here:\n",
        "a = torch.zeros(size = (5, 3), dtype = int) #NOTE: As far as I am aware, the only way\n",
        "                                        #to specify integers in python is with int,\n",
        "                                        #so long is assumed \n",
        "\n",
        "\n",
        "#\n",
        "# Don't change the following prints and asserts\n",
        "print(a)\n",
        "print(a.size())\n",
        "assert a.size() == torch.Size([5, 3])\n",
        "assert type(a[0][0].item()) is int"
      ]
    },
    {
      "cell_type": "markdown",
      "metadata": {
        "id": "xiUlww5zOQok"
      },
      "source": [
        "##### Task 2\n",
        "Many of your bugs will come from incorrect tensor dimensions. <br>\n",
        "PyTorch has several built-in functions to give you the control need. <br>\n",
        "Using only the tensor's [`.unsqueeze()`](https://pytorch.org/docs/stable/tensors.html#torch.Tensor.unsqueeze) function, turn 'a' into a 5x1x3 tensor. Hint: use the `dim=` argument"
      ]
    },
    {
      "cell_type": "code",
      "execution_count": 20,
      "metadata": {
        "id": "6rfOY4HqYDTP",
        "colab": {
          "base_uri": "https://localhost:8080/"
        },
        "outputId": "55a30402-e7e4-4022-b84d-e59c2fa9bfaf"
      },
      "outputs": [
        {
          "output_type": "stream",
          "name": "stdout",
          "text": [
            "torch.Size([5, 1, 3])\n"
          ]
        }
      ],
      "source": [
        "#\n",
        "a = torch.unsqueeze(a, dim=1)\n",
        "\n",
        "#\n",
        "print(a.shape)\n",
        "assert a.shape == torch.Size([5, 1, 3])"
      ]
    },
    {
      "cell_type": "markdown",
      "metadata": {
        "id": "PtrqwhVLOQol"
      },
      "source": [
        "##### Task 3\n",
        "Each dimension means something different. <br>\n",
        "You can change the order of your dimensions without losing information. <br>\n",
        "Reshape 'a' into a 5x3x1 tensor, using the [`.view()`](https://pytorch.org/docs/stable/tensors.html#torch.Tensor.view) function"
      ]
    },
    {
      "cell_type": "code",
      "execution_count": 21,
      "metadata": {
        "id": "zY1SJ95Ekokk",
        "colab": {
          "base_uri": "https://localhost:8080/"
        },
        "outputId": "41ff2309-8c1b-4bdf-b5e2-f65c61f21211"
      },
      "outputs": [
        {
          "output_type": "stream",
          "name": "stdout",
          "text": [
            "torch.Size([5, 3, 1])\n"
          ]
        }
      ],
      "source": [
        "#\n",
        "a = a.view(5, 3, 1)\n",
        "\n",
        "#\n",
        "print(a.shape)\n",
        "assert a.shape == torch.Size([5, 3, 1])"
      ]
    },
    {
      "cell_type": "markdown",
      "metadata": {
        "id": "aDunvO9_OQom"
      },
      "source": [
        "##### Task 4\n",
        "Dimensions of size 1 can sometimes be necessary for shape matching. <br>\n",
        "However, they can be removed without losing information. <br>\n",
        "[`squeeze()`](https://pytorch.org/docs/stable/tensors.html#torch.Tensor.squeeze) 'a' to remove dimensions of 1."
      ]
    },
    {
      "cell_type": "code",
      "execution_count": 22,
      "metadata": {
        "id": "_0Q_1vDtmaKW",
        "colab": {
          "base_uri": "https://localhost:8080/"
        },
        "outputId": "e97c0207-7a9e-4b75-9f02-e0e3c31e78e7"
      },
      "outputs": [
        {
          "output_type": "stream",
          "name": "stdout",
          "text": [
            "torch.Size([5, 3])\n"
          ]
        }
      ],
      "source": [
        "#\n",
        "a = torch.squeeze(a)\n",
        "\n",
        "#\n",
        "print(a.shape)\n",
        "assert a.size() == torch.Size([5, 3])"
      ]
    },
    {
      "cell_type": "markdown",
      "metadata": {
        "id": "xynsc-tsOQon"
      },
      "source": [
        "##### Task 5\n",
        "You can turn any tensor into a tensor of a single dimension. <br>\n",
        "[`flatten()`](https://pytorch.org/docs/stable/tensors.html#torch.Tensor.flatten) 'a' to a single dimension."
      ]
    },
    {
      "cell_type": "code",
      "execution_count": 23,
      "metadata": {
        "id": "5miM1dYxnmSY",
        "colab": {
          "base_uri": "https://localhost:8080/"
        },
        "outputId": "ac8ef7ff-e193-40ca-dc4a-66ca7a3fd3f2"
      },
      "outputs": [
        {
          "output_type": "stream",
          "name": "stdout",
          "text": [
            "torch.Size([15])\n"
          ]
        }
      ],
      "source": [
        "#\n",
        "a = torch.flatten(a)\n",
        "\n",
        "#\n",
        "print(a.size())\n",
        "assert  a.size() == torch.Size([15]) "
      ]
    },
    {
      "cell_type": "markdown",
      "metadata": {
        "id": "WRmXK3LCOQoo"
      },
      "source": [
        "##### Task 6\n",
        "It's easy to integrate other common Python data structures. <br>\n",
        "Initialize a tensor, 'b', from a list. <br>\n",
        "Note that the constructor `torch.Tensor()` creates a tensor of a default dtype (float), while the function [`torch.tensor()`](https://pytorch.org/docs/stable/generated/torch.tensor.html#torch.tensor) either uses a specified dtype or determines the type from the data passed in."
      ]
    },
    {
      "cell_type": "code",
      "execution_count": 24,
      "metadata": {
        "id": "oxX1Ybcc7gDW",
        "colab": {
          "base_uri": "https://localhost:8080/"
        },
        "outputId": "e81351a5-deab-49d3-bc34-168e977e5a52"
      },
      "outputs": [
        {
          "output_type": "stream",
          "name": "stdout",
          "text": [
            "tensor([1, 2, 3, 4, 5])\n"
          ]
        }
      ],
      "source": [
        "my_list = [1,2,3,4,5]\n",
        "#\n",
        "b = torch.tensor(my_list)\n",
        "\n",
        "#\n",
        "print(b)\n",
        "assert b.size() == torch.Size([5])"
      ]
    },
    {
      "cell_type": "markdown",
      "metadata": {
        "id": "YAGmfMO9OQop"
      },
      "source": [
        "##### Task 7\n",
        "GPUs will allow tensor operations to run much faster. <br>\n",
        "Assign 'a' and 'b' to run on GPU. <br>\n",
        "https://pytorch.org/docs/stable/tensors.html#torch.Tensor.cuda\n",
        "\n",
        "Note that this will not work if you don't have a cuda-enabled GPU available. You can connect to a machine with a GPU in Colab if you go to Runtime -> Change Runtime Type and set hardware accelerator to GPU, then click save."
      ]
    },
    {
      "cell_type": "code",
      "execution_count": 25,
      "metadata": {
        "id": "4XpqRqfG9DTr",
        "colab": {
          "base_uri": "https://localhost:8080/"
        },
        "outputId": "8434533b-6d92-48a5-9f66-5d8ca4940400"
      },
      "outputs": [
        {
          "output_type": "stream",
          "name": "stdout",
          "text": [
            "tensor([0, 0, 0, 0, 0, 0, 0, 0, 0, 0, 0, 0, 0, 0, 0], device='cuda:0') tensor([1, 2, 3, 4, 5], device='cuda:0')\n"
          ]
        },
        {
          "output_type": "stream",
          "name": "stderr",
          "text": [
            "/usr/local/lib/python3.7/dist-packages/ipykernel_launcher.py:3: UserWarning: To copy construct from a tensor, it is recommended to use sourceTensor.clone().detach() or sourceTensor.clone().detach().requires_grad_(True), rather than torch.tensor(sourceTensor).\n",
            "  This is separate from the ipykernel package so we can avoid doing imports until\n",
            "/usr/local/lib/python3.7/dist-packages/ipykernel_launcher.py:4: UserWarning: To copy construct from a tensor, it is recommended to use sourceTensor.clone().detach() or sourceTensor.clone().detach().requires_grad_(True), rather than torch.tensor(sourceTensor).\n",
            "  after removing the cwd from sys.path.\n"
          ]
        }
      ],
      "source": [
        "#\n",
        "gpu_device = torch.device('cuda')\n",
        "a = torch.tensor(a, device = gpu_device)\n",
        "b = torch.tensor(b, device = gpu_device)\n",
        "\n",
        "#\n",
        "print(a, b)\n",
        "assert a.is_cuda and b.is_cuda"
      ]
    },
    {
      "cell_type": "markdown",
      "metadata": {
        "id": "O4Q8gFZVOQos"
      },
      "source": [
        "##### Task 8\n",
        "You cannot perform operations on tensors that are on different devices (GPU and CPU), and a tensor on the GPU cannot be converted to a NumPy array or visualized with Matplotlib. <br>\n",
        "Assign 'a' and 'b' to run on CPU. <br>\n",
        "https://pytorch.org/docs/stable/tensors.html#torch.Tensor.cpu"
      ]
    },
    {
      "cell_type": "code",
      "execution_count": 26,
      "metadata": {
        "id": "FPD6NUDf7915",
        "colab": {
          "base_uri": "https://localhost:8080/"
        },
        "outputId": "8b79a681-7940-4c96-8a06-50e1048b1885"
      },
      "outputs": [
        {
          "output_type": "stream",
          "name": "stdout",
          "text": [
            "tensor([0, 0, 0, 0, 0, 0, 0, 0, 0, 0, 0, 0, 0, 0, 0]) tensor([1, 2, 3, 4, 5])\n"
          ]
        }
      ],
      "source": [
        "#\n",
        "a = a.cpu()\n",
        "b = b.cpu()\n",
        "\n",
        "#\n",
        "print(a, b)\n",
        "assert not a.is_cuda and not b.is_cuda"
      ]
    },
    {
      "cell_type": "markdown",
      "metadata": {
        "id": "QRQ3ELBaOQov"
      },
      "source": [
        "##### Task 9\n",
        "You will often want to convert tensors to NumPy arrays to interact with other Python libraries. <br>\n",
        "Convert 'a' to a NumPy array 'c'. <br>\n",
        "https://pytorch.org/docs/stable/tensors.html#torch.Tensor.numpy"
      ]
    },
    {
      "cell_type": "code",
      "execution_count": 27,
      "metadata": {
        "id": "1GMvFc2c9P_i",
        "colab": {
          "base_uri": "https://localhost:8080/"
        },
        "outputId": "7cfa9d24-1dc4-4cdc-eeb0-505a89842546"
      },
      "outputs": [
        {
          "output_type": "stream",
          "name": "stdout",
          "text": [
            "<class 'numpy.ndarray'>\n"
          ]
        }
      ],
      "source": [
        "#\n",
        "c = a.numpy()\n",
        "\n",
        "#\n",
        "print(type(c))\n",
        "assert type(c) == np.ndarray"
      ]
    },
    {
      "cell_type": "markdown",
      "metadata": {
        "id": "rjF47MieOQow"
      },
      "source": [
        "##### Task 10\n",
        "You may often want to convert your NumPy data back into PyTorch. <br>\n",
        "Convert NumPy array 'c' to tensor 'd'. <br>\n",
        "https://pytorch.org/docs/stable/generated/torch.from_numpy.html"
      ]
    },
    {
      "cell_type": "code",
      "execution_count": 28,
      "metadata": {
        "id": "EVFr_ZNgBMHL",
        "colab": {
          "base_uri": "https://localhost:8080/"
        },
        "outputId": "7a1b77af-7e5d-4ecd-d4e0-2bc2ffb8f728"
      },
      "outputs": [
        {
          "output_type": "stream",
          "name": "stdout",
          "text": [
            "torch.LongTensor\n"
          ]
        }
      ],
      "source": [
        "#\n",
        "d = torch.from_numpy(c)\n",
        "\n",
        "#\n",
        "print(d.type())\n",
        "assert torch.is_tensor(d)"
      ]
    },
    {
      "cell_type": "markdown",
      "metadata": {
        "id": "fM3h46ZAucnV"
      },
      "source": [
        "\n",
        "___\n",
        "\n",
        "### Part 2\n",
        "\n",
        "You must play with the Tensorflow playground neural network, and figure out how to create a classifier that successfully classifies the “spiral” dataset. Take a screenshot containing the visualization of the dataset and your classifier, the network architecture, and the hyperparameters of the classifier that learned the spiral dataset.\n",
        "\n",
        "\n",
        "[TensorFlow playground](http://playground.tensorflow.org/)\n",
        "\n",
        "**TODO:**\n",
        "* Create a classifier that successfully classifies the \"spiral\" dataset\n",
        "* Display the image below\n",
        "\n",
        "**DONE:**\n"
      ]
    },
    {
      "cell_type": "code",
      "execution_count": 12,
      "metadata": {
        "id": "4A3W6M4QOQox",
        "colab": {
          "base_uri": "https://localhost:8080/",
          "height": 422
        },
        "outputId": "d3da3b70-d8eb-48ff-a38f-653e3f2800f4"
      },
      "outputs": [
        {
          "output_type": "display_data",
          "data": {
            "text/plain": [
              "<IPython.core.display.HTML object>"
            ],
            "text/html": [
              "\n",
              "     <input type=\"file\" id=\"files-d678c5a9-6521-40e7-ac2a-4b618c0f58c4\" name=\"files[]\" multiple disabled\n",
              "        style=\"border:none\" />\n",
              "     <output id=\"result-d678c5a9-6521-40e7-ac2a-4b618c0f58c4\">\n",
              "      Upload widget is only available when the cell has been executed in the\n",
              "      current browser session. Please rerun this cell to enable.\n",
              "      </output>\n",
              "      <script src=\"/nbextensions/google.colab/files.js\"></script> "
            ]
          },
          "metadata": {}
        },
        {
          "output_type": "error",
          "ename": "MessageError",
          "evalue": "ignored",
          "traceback": [
            "\u001b[0;31m---------------------------------------------------------------------------\u001b[0m",
            "\u001b[0;31mMessageError\u001b[0m                              Traceback (most recent call last)",
            "\u001b[0;32m<ipython-input-12-bbe37cedce3b>\u001b[0m in \u001b[0;36m<module>\u001b[0;34m\u001b[0m\n\u001b[1;32m      6\u001b[0m \u001b[0;32mimport\u001b[0m \u001b[0mmatplotlib\u001b[0m\u001b[0;34m.\u001b[0m\u001b[0mpyplot\u001b[0m \u001b[0;32mas\u001b[0m \u001b[0mplt\u001b[0m\u001b[0;34m\u001b[0m\u001b[0;34m\u001b[0m\u001b[0m\n\u001b[1;32m      7\u001b[0m \u001b[0;34m\u001b[0m\u001b[0m\n\u001b[0;32m----> 8\u001b[0;31m \u001b[0mfile_dict\u001b[0m \u001b[0;34m=\u001b[0m \u001b[0mfiles\u001b[0m\u001b[0;34m.\u001b[0m\u001b[0mupload\u001b[0m\u001b[0;34m(\u001b[0m\u001b[0;34m)\u001b[0m\u001b[0;34m\u001b[0m\u001b[0;34m\u001b[0m\u001b[0m\n\u001b[0m\u001b[1;32m      9\u001b[0m \u001b[0mprint\u001b[0m\u001b[0;34m(\u001b[0m\u001b[0mfile_dict\u001b[0m\u001b[0;34m)\u001b[0m\u001b[0;34m\u001b[0m\u001b[0;34m\u001b[0m\u001b[0m\n\u001b[1;32m     10\u001b[0m \u001b[0mimage_path\u001b[0m \u001b[0;34m=\u001b[0m \u001b[0mio\u001b[0m\u001b[0;34m.\u001b[0m\u001b[0mBytesIO\u001b[0m\u001b[0;34m(\u001b[0m\u001b[0mfile_dict\u001b[0m\u001b[0;34m[\u001b[0m\u001b[0mnext\u001b[0m\u001b[0;34m(\u001b[0m\u001b[0miter\u001b[0m\u001b[0;34m(\u001b[0m\u001b[0mfile_dict\u001b[0m\u001b[0;34m)\u001b[0m\u001b[0;34m)\u001b[0m\u001b[0;34m]\u001b[0m\u001b[0;34m)\u001b[0m\u001b[0;34m\u001b[0m\u001b[0;34m\u001b[0m\u001b[0m\n",
            "\u001b[0;32m/usr/local/lib/python3.7/dist-packages/google/colab/files.py\u001b[0m in \u001b[0;36mupload\u001b[0;34m()\u001b[0m\n\u001b[1;32m     39\u001b[0m   \"\"\"\n\u001b[1;32m     40\u001b[0m \u001b[0;34m\u001b[0m\u001b[0m\n\u001b[0;32m---> 41\u001b[0;31m   \u001b[0muploaded_files\u001b[0m \u001b[0;34m=\u001b[0m \u001b[0m_upload_files\u001b[0m\u001b[0;34m(\u001b[0m\u001b[0mmultiple\u001b[0m\u001b[0;34m=\u001b[0m\u001b[0;32mTrue\u001b[0m\u001b[0;34m)\u001b[0m\u001b[0;34m\u001b[0m\u001b[0;34m\u001b[0m\u001b[0m\n\u001b[0m\u001b[1;32m     42\u001b[0m   \u001b[0;31m# Mapping from original filename to filename as saved locally.\u001b[0m\u001b[0;34m\u001b[0m\u001b[0;34m\u001b[0m\u001b[0;34m\u001b[0m\u001b[0m\n\u001b[1;32m     43\u001b[0m   \u001b[0mlocal_filenames\u001b[0m \u001b[0;34m=\u001b[0m \u001b[0mdict\u001b[0m\u001b[0;34m(\u001b[0m\u001b[0;34m)\u001b[0m\u001b[0;34m\u001b[0m\u001b[0;34m\u001b[0m\u001b[0m\n",
            "\u001b[0;32m/usr/local/lib/python3.7/dist-packages/google/colab/files.py\u001b[0m in \u001b[0;36m_upload_files\u001b[0;34m(multiple)\u001b[0m\n\u001b[1;32m    116\u001b[0m   result = _output.eval_js(\n\u001b[1;32m    117\u001b[0m       'google.colab._files._uploadFiles(\"{input_id}\", \"{output_id}\")'.format(\n\u001b[0;32m--> 118\u001b[0;31m           input_id=input_id, output_id=output_id))\n\u001b[0m\u001b[1;32m    119\u001b[0m   \u001b[0mfiles\u001b[0m \u001b[0;34m=\u001b[0m \u001b[0m_collections\u001b[0m\u001b[0;34m.\u001b[0m\u001b[0mdefaultdict\u001b[0m\u001b[0;34m(\u001b[0m\u001b[0mbytes\u001b[0m\u001b[0;34m)\u001b[0m\u001b[0;34m\u001b[0m\u001b[0;34m\u001b[0m\u001b[0m\n\u001b[1;32m    120\u001b[0m \u001b[0;34m\u001b[0m\u001b[0m\n",
            "\u001b[0;32m/usr/local/lib/python3.7/dist-packages/google/colab/output/_js.py\u001b[0m in \u001b[0;36meval_js\u001b[0;34m(script, ignore_result, timeout_sec)\u001b[0m\n\u001b[1;32m     38\u001b[0m   \u001b[0;32mif\u001b[0m \u001b[0mignore_result\u001b[0m\u001b[0;34m:\u001b[0m\u001b[0;34m\u001b[0m\u001b[0;34m\u001b[0m\u001b[0m\n\u001b[1;32m     39\u001b[0m     \u001b[0;32mreturn\u001b[0m\u001b[0;34m\u001b[0m\u001b[0;34m\u001b[0m\u001b[0m\n\u001b[0;32m---> 40\u001b[0;31m   \u001b[0;32mreturn\u001b[0m \u001b[0m_message\u001b[0m\u001b[0;34m.\u001b[0m\u001b[0mread_reply_from_input\u001b[0m\u001b[0;34m(\u001b[0m\u001b[0mrequest_id\u001b[0m\u001b[0;34m,\u001b[0m \u001b[0mtimeout_sec\u001b[0m\u001b[0;34m)\u001b[0m\u001b[0;34m\u001b[0m\u001b[0;34m\u001b[0m\u001b[0m\n\u001b[0m\u001b[1;32m     41\u001b[0m \u001b[0;34m\u001b[0m\u001b[0m\n\u001b[1;32m     42\u001b[0m \u001b[0;34m\u001b[0m\u001b[0m\n",
            "\u001b[0;32m/usr/local/lib/python3.7/dist-packages/google/colab/_message.py\u001b[0m in \u001b[0;36mread_reply_from_input\u001b[0;34m(message_id, timeout_sec)\u001b[0m\n\u001b[1;32m    100\u001b[0m         reply.get('colab_msg_id') == message_id):\n\u001b[1;32m    101\u001b[0m       \u001b[0;32mif\u001b[0m \u001b[0;34m'error'\u001b[0m \u001b[0;32min\u001b[0m \u001b[0mreply\u001b[0m\u001b[0;34m:\u001b[0m\u001b[0;34m\u001b[0m\u001b[0;34m\u001b[0m\u001b[0m\n\u001b[0;32m--> 102\u001b[0;31m         \u001b[0;32mraise\u001b[0m \u001b[0mMessageError\u001b[0m\u001b[0;34m(\u001b[0m\u001b[0mreply\u001b[0m\u001b[0;34m[\u001b[0m\u001b[0;34m'error'\u001b[0m\u001b[0;34m]\u001b[0m\u001b[0;34m)\u001b[0m\u001b[0;34m\u001b[0m\u001b[0;34m\u001b[0m\u001b[0m\n\u001b[0m\u001b[1;32m    103\u001b[0m       \u001b[0;32mreturn\u001b[0m \u001b[0mreply\u001b[0m\u001b[0;34m.\u001b[0m\u001b[0mget\u001b[0m\u001b[0;34m(\u001b[0m\u001b[0;34m'data'\u001b[0m\u001b[0;34m,\u001b[0m \u001b[0;32mNone\u001b[0m\u001b[0;34m)\u001b[0m\u001b[0;34m\u001b[0m\u001b[0;34m\u001b[0m\u001b[0m\n\u001b[1;32m    104\u001b[0m \u001b[0;34m\u001b[0m\u001b[0m\n",
            "\u001b[0;31mMessageError\u001b[0m: TypeError: google.colab._files is undefined"
          ]
        }
      ],
      "source": [
        "# Run this cell to upload and display your screenshot.\n",
        "# The results of code cells are saved along with the file, so if you can see the image below, we will be able to also.\n",
        "import io\n",
        "from PIL import Image\n",
        "from google.colab import files\n",
        "import matplotlib.pyplot as plt\n",
        "\n",
        "file_dict = files.upload()\n",
        "print(file_dict)\n",
        "image_path = io.BytesIO(file_dict[next(iter(file_dict))])\n",
        "image = Image.open(image_path)\n",
        "plt.imshow(image, aspect='auto')\n",
        "plt.axis('off')\n",
        "plt.show()"
      ]
    },
    {
      "cell_type": "code",
      "execution_count": null,
      "metadata": {
        "id": "fYp4mBn6OQox"
      },
      "outputs": [],
      "source": []
    }
  ],
  "metadata": {
    "colab": {
      "collapsed_sections": [],
      "name": "DL_Lab1.ipynb",
      "provenance": [],
      "include_colab_link": true
    },
    "kernelspec": {
      "display_name": "Python 3",
      "language": "python",
      "name": "python3"
    },
    "language_info": {
      "codemirror_mode": {
        "name": "ipython",
        "version": 3
      },
      "file_extension": ".py",
      "mimetype": "text/x-python",
      "name": "python",
      "nbconvert_exporter": "python",
      "pygments_lexer": "ipython3",
      "version": "3.7.1"
    },
    "pycharm": {
      "stem_cell": {
        "cell_type": "raw",
        "metadata": {
          "collapsed": false
        },
        "source": []
      }
    },
    "accelerator": "GPU",
    "gpuClass": "standard"
  },
  "nbformat": 4,
  "nbformat_minor": 0
}