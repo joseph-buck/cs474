{
  "cells": [
    {
      "cell_type": "markdown",
      "metadata": {
        "id": "tpnN_XZwq_vc"
      },
      "source": [
        "<a href=\"https://colab.research.google.com/github/wingated/cs474_labs_f2019/blob/master/DL_Lab4.ipynb\" target=\"_parent\"><img src=\"https://colab.research.google.com/assets/colab-badge.svg\" alt=\"Open In Colab\"/></a>"
      ]
    },
    {
      "cell_type": "markdown",
      "metadata": {
        "id": "view-in-github"
      },
      "source": [
        "# Lab 4: Cancer Detection\n",
        "\n",
        "## Objective\n",
        "* To build a dense prediction model\n",
        "* To begin reading current papers in DNN research\n",
        "\n",
        "## Deliverable\n",
        "For this lab, you will turn in a notebook that describes your efforts at creating\n",
        "a pytorch radiologist. Your final deliverable is a notebook that has (1) a deep network,\n",
        "(2) method of calculating accuracy, \n",
        "(3) images that show the dense prediction produced by your network on the pos_test_000072.png image (index 172 in the validation dataset).\n",
        "This is an image in the test set that your network will not have seen before.\n",
        "This image, and the ground truth labeling, is shown below.\n",
        "(And is contained in the downloadable dataset below).\n",
        "\n",
        "![](http://liftothers.org/dokuwiki/lib/exe/fetch.php?w=200&tok=a8ac31&media=cs501r_f2016:pos_test_000072_output.png)\n",
        "<img src=\"http://liftothers.org/dokuwiki/lib/exe/fetch.php?media=cs501r_f2016:pos_test_000072.png\" width=\"200\">\n",
        "\n",
        "\n",
        "## Grading standards\n",
        "Your notebook will be graded on the following:\n",
        "* 40% Proper design, creation and debugging of a dense prediction network\n",
        "* 20% Proper implementation of train/test set accuracy measure\n",
        "* 20% Tidy visualizations of loss of your dense predictor during training\n",
        "* 20% Test image output\n",
        "\n",
        "\n",
        "## Data set\n",
        "The data is given as a set of 1024×1024 PNG images. Each input image (in \n",
        "the ```inputs``` directory) is an RGB image of a section of tissue,\n",
        "and there a file with the same name (in the ```outputs``` directory) \n",
        "that has a dense labeling of whether or not a section of tissue is cancerous\n",
        "(white pixels mean “cancerous”, while black pixels mean “not cancerous”).\n",
        "\n",
        "The data has been pre-split for you into test and training splits.\n",
        "Filenames also reflect whether or not the image has any cancer at all \n",
        "(files starting with ```pos_``` have some cancerous pixels, while files \n",
        "starting with ```neg_``` have no cancer anywhere).\n",
        "All of the data is hand-labeled, so the dataset is not very large.\n",
        "That means that overfitting is a real possibility.\n",
        "\n",
        "## Description\n",
        "For a video including some tips and tricks that can help with this lab: [https://youtu.be/Ms19kgK_D8w](https://youtu.be/Ms19kgK_D8w)\n",
        "For this lab, you will implement a virtual radiologist.\n",
        "You are given images of possibly cancerous tissue samples, \n",
        "and you must build a detector that identifies where in the tissue cancer may reside.\n",
        "\n",
        "---\n",
        "\n",
        "### Part 0\n",
        "Watch and follow video tutorial:\n",
        "\n",
        "https://youtu.be/Ms19kgK_D8w\n",
        "\n",
        "**TODO:**\n",
        "\n",
        "* Watch tutorial\n",
        "\n",
        "**DONE:**\n",
        "\n",
        "### Part 1\n",
        "Implement a dense predictor\n",
        "\n",
        "In previous labs and lectures, we have talked about DNNs that classify an \n",
        "entire image as a single class. Here, however, we are interested in a more nuanced classification: \n",
        "given an input image, we would like to identify each pixel that is possibly cancerous. \n",
        "That means that instead of a single output, your network should output an “image”, \n",
        "where each output pixel of your network represents the probability that a pixel is cancerous.\n",
        "\n",
        "___\n",
        "\n",
        "Implement your network topology\n",
        "\n",
        "Use the “Deep Convolution U-Net” from this paper: [(U-Net: Convolutional Networks for Biomedical Image Segmentation)](https://arxiv.org/pdf/1505.04597.pdf) \n",
        "\n",
        "![(Figure 1)](https://lh3.googleusercontent.com/qnHiB3B2KRxC3NjiSDtY08_DgDGTDsHcO6PP53oNRuct-p2QXCR-gyLkDveO850F2tTAhIOPC5Ha06NP9xq1JPsVAHlQ5UXA5V-9zkUrJHGhP_MNHFoRGnjBz1vn1p8P2rMWhlAb6HQ=w2400)\n",
        "\n",
        "You should use existing pytorch functions (not your own Conv2D module), such as ```nn.Conv2d``` and ```nn.CrossEntropyLoss```;\n",
        "you will also need the pytorch function ```torch.cat``` and ```nn.ConvTranspose2d```\n",
        "\n",
        "```torch.cat``` allows you to concatenate tensors.\n",
        "```nn.ConvTranspose2d``` is the opposite of ```nn.Conv2d```.\n",
        "It is used to bring an image from low res to higher res.\n",
        "[This blog](https://towardsdatascience.com/up-sampling-with-transposed-convolution-9ae4f2df52d0) should help you understand this function in detail.\n",
        "\n",
        "You can simplify the implementation of this lab by padding the feature maps as they pass through each convolution. This will make the concatenation process easier, though this is technically a departure from the cropping technique outlined in the orginal U-Net paper. \n",
        "\n",
        "Note that the simplest network you could implement (with all the desired properties)\n",
        "is just a single convolution layer with two filters and no relu! \n",
        "Why is that? (of course it wouldn't work very well!)\n",
        "\n",
        "**TODO:**\n",
        "\n",
        "* Understand the U-Net architecture\n",
        "* Understand concatenation of inputs from multiple prior layers\n",
        "* Understand ConvTranspose\n",
        "* Answer Question / Reflect on simplest network with the desired properties\n",
        "\n",
        "**DONE:**\n",
        "\n",
        "\n",
        "___\n",
        "The intention of this lab is to learn how to make deep neural nets. We'll help you with the implementation of Dataset.\n",
        "This code will download the dataset for you so that you are ready to use it and focus on network\n",
        "implementation, losses and accuracies."
      ]
    },
    {
      "cell_type": "code",
      "execution_count": 3,
      "metadata": {
        "id": "wQOefmcZVgTl",
        "pycharm": {
          "is_executing": false
        },
        "outputId": "ee17c00f-bc1b-4be2-ae28-403f68ded99c",
        "colab": {
          "base_uri": "https://localhost:8080/"
        }
      },
      "outputs": [
        {
          "output_type": "stream",
          "name": "stdout",
          "text": [
            "Looking in indexes: https://pypi.org/simple, https://us-python.pkg.dev/colab-wheels/public/simple/\n",
            "Requirement already satisfied: torch in /usr/local/lib/python3.7/dist-packages (1.12.1+cu113)\n",
            "Requirement already satisfied: typing-extensions in /usr/local/lib/python3.7/dist-packages (from torch) (4.1.1)\n",
            "Looking in indexes: https://pypi.org/simple, https://us-python.pkg.dev/colab-wheels/public/simple/\n",
            "Requirement already satisfied: torchvision in /usr/local/lib/python3.7/dist-packages (0.13.1+cu113)\n",
            "Requirement already satisfied: pillow!=8.3.*,>=5.3.0 in /usr/local/lib/python3.7/dist-packages (from torchvision) (7.1.2)\n",
            "Requirement already satisfied: torch==1.12.1 in /usr/local/lib/python3.7/dist-packages (from torchvision) (1.12.1+cu113)\n",
            "Requirement already satisfied: requests in /usr/local/lib/python3.7/dist-packages (from torchvision) (2.23.0)\n",
            "Requirement already satisfied: typing-extensions in /usr/local/lib/python3.7/dist-packages (from torchvision) (4.1.1)\n",
            "Requirement already satisfied: numpy in /usr/local/lib/python3.7/dist-packages (from torchvision) (1.21.6)\n",
            "Requirement already satisfied: chardet<4,>=3.0.2 in /usr/local/lib/python3.7/dist-packages (from requests->torchvision) (3.0.4)\n",
            "Requirement already satisfied: certifi>=2017.4.17 in /usr/local/lib/python3.7/dist-packages (from requests->torchvision) (2022.6.15)\n",
            "Requirement already satisfied: urllib3!=1.25.0,!=1.25.1,<1.26,>=1.21.1 in /usr/local/lib/python3.7/dist-packages (from requests->torchvision) (1.24.3)\n",
            "Requirement already satisfied: idna<3,>=2.5 in /usr/local/lib/python3.7/dist-packages (from requests->torchvision) (2.10)\n",
            "Looking in indexes: https://pypi.org/simple, https://us-python.pkg.dev/colab-wheels/public/simple/\n",
            "Requirement already satisfied: tqdm in /usr/local/lib/python3.7/dist-packages (4.64.1)\n"
          ]
        }
      ],
      "source": [
        "!pip3 install torch\n",
        "!pip3 install torchvision\n",
        "!pip3 install tqdm\n",
        "\n",
        "import torch\n",
        "import torch.nn as nn\n",
        "import torch.nn.functional as F\n",
        "import torch.optim as optim\n",
        "from torch.utils.data import Dataset, DataLoader\n",
        "import numpy as np\n",
        "import matplotlib.pyplot as plt\n",
        "from torchvision import transforms, utils, datasets\n",
        "from tqdm import tqdm\n",
        "from torch.nn.parameter import Parameter\n",
        "import pdb\n",
        "import torchvision\n",
        "import os\n",
        "import gzip\n",
        "import tarfile\n",
        "import gc\n",
        "from IPython.core.ultratb import AutoFormattedTB\n",
        "__ITB__ = AutoFormattedTB(mode = 'Verbose',color_scheme='LightBg', tb_offset = 1)\n",
        "\n",
        "assert torch.cuda.is_available(), \"You need to request a GPU from Runtime > Change Runtime\""
      ]
    },
    {
      "cell_type": "markdown",
      "metadata": {
        "id": "49quyvIJvTq8"
      },
      "source": [
        "WARNING: You may run into an error that says \"RuntimeError: CUDA out of memory.\"\n",
        "\n",
        "In this case, the memory required for your batch is larger than what the GPU is capable of. You can solve this problem by adjusting the image size or the batch size and then restarting the runtime. "
      ]
    },
    {
      "cell_type": "code",
      "execution_count": 74,
      "metadata": {
        "id": "Il_53HLSWPTY"
      },
      "outputs": [],
      "source": [
        "class CancerDataset(Dataset):\n",
        "  def __init__(self, root, download=True, size=512, train=True):\n",
        "    if download and not os.path.exists(os.path.join(root, 'cancer_data')):\n",
        "      datasets.utils.download_url('http://liftothers.org/cancer_data.tar.gz', root, 'cancer_data.tar.gz', None)\n",
        "      self.extract_gzip(os.path.join(root, 'cancer_data.tar.gz'))\n",
        "      self.extract_tar(os.path.join(root, 'cancer_data.tar'))\n",
        "    \n",
        "    postfix = 'train' if train else 'test'\n",
        "    root = os.path.join(root, 'cancer_data', 'cancer_data')\n",
        "    self.dataset_folder = torchvision.datasets.ImageFolder(os.path.join(root, 'inputs_' + postfix) ,transform = transforms.Compose([transforms.Resize(size),transforms.ToTensor()]))\n",
        "    self.label_folder = torchvision.datasets.ImageFolder(os.path.join(root, 'outputs_' + postfix) ,transform = transforms.Compose([transforms.Resize(size),transforms.ToTensor()]))\n",
        "\n",
        "  @staticmethod\n",
        "  def extract_gzip(gzip_path, remove_finished=False):\n",
        "    print('Extracting {}'.format(gzip_path))\n",
        "    with open(gzip_path.replace('.gz', ''), 'wb') as out_f, gzip.GzipFile(gzip_path) as zip_f:\n",
        "      out_f.write(zip_f.read())\n",
        "    if remove_finished:\n",
        "      os.unlink(gzip_path)\n",
        "  \n",
        "  @staticmethod \n",
        "  def extract_tar(tar_path):\n",
        "    print('Untarring {}'.format(tar_path))\n",
        "    z = tarfile.TarFile(tar_path)\n",
        "    z.extractall(tar_path.replace('.tar', ''))\n",
        "\n",
        "  def __getitem__(self,index):\n",
        "    img = self.dataset_folder[index]\n",
        "    label = self.label_folder[index]\n",
        "    return img[0],label[0][0]\n",
        "  \n",
        "  def __len__(self):\n",
        "    return len(self.dataset_folder)"
      ]
    },
    {
      "cell_type": "code",
      "execution_count": 102,
      "metadata": {
        "id": "jq22IyKanxo_"
      },
      "outputs": [],
      "source": [
        "# Since you will be using the output of one network in two places(convolution and maxpooling),\n",
        "# you can't use nn.Sequential.\n",
        "# Instead you will write up the network like normal variable assignment as the example shown below:\n",
        "# You are welcome (and encouraged) to use the built-in batch normalization and dropout layer.\n",
        "# Tip: Since our images are 512 x 512, you probably want to add padding to preserve the spatial \n",
        "# dimensions in the convolutional layers, so that each maxpool operation is applied to\n",
        "# a layer having a spatial dimension that is a power of 2.\n",
        "\n",
        "class ConvBlock(nn.Module):\n",
        "  def __init__(self, in_channels, out_channels, up:bool=False):\n",
        "    super(ConvBlock, self).__init__()\n",
        "\n",
        "    self.c1 = nn.Conv2d(in_channels=in_channels, out_channels=out_channels,\n",
        "                        kernel_size=(3,3), padding=(1,1))\n",
        "    self.c2 = nn.Conv2d(in_channels=out_channels, out_channels=out_channels,\n",
        "                        kernel_size=(3,3), padding=(1,1))\n",
        "    self.up = up\n",
        "    if self.up:\n",
        "      self.up_conv = nn.ConvTranspose2d(out_channels, out_channels // 2, \n",
        "                                        kernel_size=2, stride=2)\n",
        "\n",
        "  def forward(self, x):\n",
        "    out1 = F.relu(self.c1(x))\n",
        "    out2 = F.relu(self.c2(out1))\n",
        "    if self.up:\n",
        "      out2 = self.up_conv(out2)\n",
        "    return out2\n",
        "\n",
        "\n",
        "\n",
        "# TODO: You need to change this to fit the UNet structure!!!\n",
        "class CancerDetection(nn.Module):\n",
        "  def __init__(self):\n",
        "    super(CancerDetection, self).__init__()\n",
        "    self.conv1 = ConvBlock(3,64,)\n",
        "    self.conv2 = ConvBlock(64,128,)\n",
        "    self.conv3 = ConvBlock(128,256,)\n",
        "    self.conv4 = ConvBlock(256,512,)\n",
        "    self.up_conv1 = ConvBlock(512,1024,up=True)\n",
        "    self.up_conv2 = ConvBlock(1024,512,up=True)\n",
        "    self.up_conv3 = ConvBlock(512,256,up=True)\n",
        "    self.up_conv4 = ConvBlock(256,128,up=True)\n",
        "    self.out_conv = ConvBlock(128,64)\n",
        "    self.out = nn.Conv2d(64, 2, kernel_size=1, padding=0)\n",
        "    self.down = nn.MaxPool2d(2)\n",
        "\n",
        "  def forward(self, input):\n",
        "    # Downsampling\n",
        "    out1 = F.relu(self.conv1(input))\n",
        "    out2 = F.relu(self.conv2(self.down(out1)))\n",
        "    out3 = F.relu(self.conv3(self.down(out2)))\n",
        "    out4 = F.relu(self.conv4(self.down(out3)))\n",
        "    # Middle Portion\n",
        "    out5 = F.relu(self.up_conv1(self.down(out4)))\n",
        "    # Upconvolution Portion\n",
        "    out6 = F.relu(self.up_conv2(torch.cat((out4, out5), 1)))\n",
        "    out7 = F.relu(self.up_conv3(torch.cat((out3, out6), 1)))\n",
        "    out8 = F.relu(self.up_conv4(torch.cat((out2, out7), 1)))\n",
        "    # Output\n",
        "    out9 = F.relu(self.out_conv(torch.cat((out1, out8), 1)))\n",
        "    return self.out(out9)\n"
      ]
    },
    {
      "cell_type": "code",
      "execution_count": 95,
      "metadata": {
        "id": "XPgrP88aOtfy"
      },
      "outputs": [],
      "source": [
        "# You'll probably want a function or something to test input / output sizes of the ConvTranspose2d layer \n",
        "def test_block(in_shape, block):\n",
        "  input = torch.ones(in_shape)\n",
        "  output = block(input)\n",
        "  print(f\"{in_shape} => {output.shape}\")"
      ]
    },
    {
      "cell_type": "code",
      "source": [
        "# x: (batches, channels, height, width)\n",
        "block = CancerDetection() # In channels, out channels, up sample or not\n",
        "test_block((6, 3, 512, 512), block)    # Samples per batch, channels, res"
      ],
      "metadata": {
        "id": "nTdFZdrNk4tI",
        "outputId": "ae950bb7-023d-4389-f1d3-f6b791c33397",
        "colab": {
          "base_uri": "https://localhost:8080/"
        }
      },
      "execution_count": 96,
      "outputs": [
        {
          "output_type": "stream",
          "name": "stdout",
          "text": [
            "In init\n",
            "(6, 3, 512, 512) => torch.Size([6, 2, 512, 512])\n"
          ]
        }
      ]
    },
    {
      "cell_type": "code",
      "execution_count": 101,
      "metadata": {
        "id": "NAjagHCdGNAh",
        "outputId": "c1d8c759-6100-4d8e-f2b0-38002fa609a5",
        "colab": {
          "base_uri": "https://localhost:8080/"
        }
      },
      "outputs": [
        {
          "output_type": "stream",
          "name": "stdout",
          "text": [
            "torch.Size([6, 3, 512, 512]) : torch.Size([6, 512, 512])\n"
          ]
        }
      ],
      "source": [
        "# Create your datasets, dataloaders and neural network as you have before\n",
        "# Tip: Pass shuffle=True to constructor for training dataloader\n",
        "train_dataset = CancerDataset('/tmp/cancer_data', download=True, size=512, train=True)\n",
        "val_dataset = CancerDataset('tmp/cancer_data', download=True, size = 512, train=False)\n",
        "\n",
        "# Initialize the model\n",
        "model = CancerDetection()\n",
        "model.cuda() \n",
        "\n",
        "# Create the objective and the optimizer\n",
        "objective = nn.CrossEntropyLoss()\n",
        "optimizer = optim.Adam(model.parameters(), lr=1e-4)"
      ]
    },
    {
      "cell_type": "code",
      "source": [
        "# Function for pixel-wise accuracy\n",
        "def pixelwise_accuracy(y, y_truth):\n",
        "  b = y_hat\n",
        "  return (y.argmax(1).squeeze() == y_truth.squeeze()).float().view(b, -1).mean()"
      ],
      "metadata": {
        "id": "sNqAUySBa32F"
      },
      "execution_count": null,
      "outputs": []
    },
    {
      "cell_type": "code",
      "execution_count": null,
      "metadata": {
        "id": "RkieTbwlYWPS"
      },
      "outputs": [],
      "source": [
        "# This is what was talked about in the video for memory management\n",
        "train_losses = []\n",
        "val_losses = []\n",
        "train_accs = []\n",
        "val_accs = []\n",
        "test_preds = []\n",
        "\n",
        "import time\n",
        "def scope():\n",
        "  try:\n",
        "    #your code for calling dataset and dataloader\n",
        "    gc.collect()\n",
        "    print(torch.cuda.memory_allocated() / 1e9)\n",
        "\n",
        "    train_loader = DataLoader(train_dataset, batch_size=6, shuffle=True, pin_memory=True)\n",
        "    val_loader = DataLoader(val_dataset, batch_size=6, pin_memory=True)\n",
        "    \n",
        "    #for epochs:\n",
        "    # Call your model, figure out loss and accuracy\n",
        "    vals = []\n",
        "    val_accs = []\n",
        "    val_mean = 0\n",
        "    with torch.no_grad():\n",
        "      for x, y_truth in val_loader:\n",
        "        gc.collect()\n",
        "        x, y_truth = x.cuda(), y_truth.cuda()\n",
        "        y_hat = model(x)\n",
        "        \n",
        "        vals.append(objective(y_hat, y_truth.long()).item())\n",
        "        val_mean += pixelwise_accuracy(y_hat, y_truth)\n",
        "      val_losses.append((len(train_losses),np.mean(vals)))  \n",
        "      val_accs.append(val_mean / len(val_dataset))\n",
        "\n",
        "    num_epochs = 5\n",
        "\n",
        "    for epoch in range(num_epochs):\n",
        "      loop=tqdm(total=len(train_loader), position=0, leave=False)\n",
        "      for batch, (s, y_truth) in enumerate(train_loader):\n",
        "        gc.collect()\n",
        "        x, y_truth = x.cuda(), y_truth.cuda()\n",
        "\n",
        "        optimizer.zero_grad()\n",
        "        y_hat = model(x)\n",
        "\n",
        "        loss = objective(y_hat, y_truth.long())\n",
        "\n",
        "        loss.backward()\n",
        "        optimizer.step() \n",
        "\n",
        "  except:\n",
        "    __ITB__()\n",
        "    \n",
        "scope()\n"
      ]
    },
    {
      "cell_type": "markdown",
      "metadata": {
        "id": "CZ062Jv1jIIu"
      },
      "source": [
        "\n",
        "___\n",
        "\n",
        "### Part 2\n",
        "\n",
        "Plot performance over time\n",
        "\n",
        "Please generate two plots:\n",
        "\n",
        " One that shows loss on the training and validation set as a function of training time. \n",
        "\n",
        " One that shows accuracy on the training and validation set as a function of training time. \n",
        "\n",
        " Make sure your axes are labeled!\n",
        "\n",
        "**TODO:**\n",
        "\n",
        "* Plot training/validation loss as function of training time (not epochs)\n",
        "* Plot training/validation accuracy as function of training time (not epochs)\n",
        "\n",
        "**DONE:**\n",
        "\n"
      ]
    },
    {
      "cell_type": "code",
      "execution_count": null,
      "metadata": {
        "id": "mTg1jyIsYVZN"
      },
      "outputs": [],
      "source": [
        "# Your plotting code here\n"
      ]
    },
    {
      "cell_type": "markdown",
      "metadata": {
        "nteract": {
          "transient": {
            "deleting": false
          }
        },
        "id": "10KmmaJHFmJ0"
      },
      "source": [
        "**NOTE:**\n",
        "\n",
        "Guessing that the pixel is not cancerous every single time will give you an accuracy of ~ 85%.\n",
        "Your trained network should be able to do better than that (but you will not be graded on accuracy).\n",
        "This is the result I got after 1 hour or training.\n",
        "\n",
        "![](http://liftothers.org/dokuwiki/lib/exe/fetch.php?w=400&tok=d23e0b&media=cs501r_f2016:training_accuracy.png)\n",
        "![](http://liftothers.org/dokuwiki/lib/exe/fetch.php?w=400&tok=bb8e3c&media=cs501r_f2016:training_loss.png)"
      ]
    },
    {
      "cell_type": "markdown",
      "metadata": {
        "id": "S4s92S2_jQOG"
      },
      "source": [
        "___\n",
        "\n",
        "### Part 3\n",
        "\n",
        "Generate at least 5 predictions on the pos_test_000072.png image and display them as images. These predictions should be made at a reasonable interval (e.g. every epoch). \n",
        "\n",
        "To do this, calculate the output of your trained network on the pos_test_000072.png image,\n",
        "then make a hard decision (cancerous/not-cancerous) for each pixel.\n",
        "The resulting image should be black-and-white, where white pixels represent things\n",
        "you think are probably cancerous.\n",
        "\n",
        "**TODO:**\n",
        "\n",
        "**DONE:**\n",
        "\n"
      ]
    },
    {
      "cell_type": "code",
      "execution_count": null,
      "metadata": {
        "id": "XXfG3wClh8an",
        "pycharm": {
          "is_executing": false
        }
      },
      "outputs": [],
      "source": [
        "# Code for testing prediction on an image\n"
      ]
    }
  ],
  "metadata": {
    "accelerator": "GPU",
    "colab": {
      "collapsed_sections": [],
      "provenance": []
    },
    "kernelspec": {
      "display_name": "Python 3",
      "language": "python",
      "name": "python3"
    },
    "language_info": {
      "codemirror_mode": {
        "name": "ipython",
        "version": 3
      },
      "file_extension": ".py",
      "mimetype": "text/x-python",
      "name": "python",
      "nbconvert_exporter": "python",
      "pygments_lexer": "ipython3",
      "version": "3.7.1"
    },
    "nteract": {
      "version": "0.28.0"
    },
    "pycharm": {
      "stem_cell": {
        "cell_type": "raw",
        "metadata": {
          "collapsed": false
        },
        "source": []
      }
    }
  },
  "nbformat": 4,
  "nbformat_minor": 0
}